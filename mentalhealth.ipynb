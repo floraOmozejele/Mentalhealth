{
 "cells": [
  {
   "cell_type": "code",
   "execution_count": 1,
   "metadata": {},
   "outputs": [
    {
     "name": "stderr",
     "output_type": "stream",
     "text": [
      "[nltk_data] Downloading package stopwords to\n",
      "[nltk_data]     C:\\Users\\flora\\AppData\\Roaming\\nltk_data...\n",
      "[nltk_data]   Package stopwords is already up-to-date!\n",
      "[nltk_data] Downloading package punkt to\n",
      "[nltk_data]     C:\\Users\\flora\\AppData\\Roaming\\nltk_data...\n",
      "[nltk_data]   Package punkt is already up-to-date!\n",
      "[nltk_data] Downloading package wordnet to\n",
      "[nltk_data]     C:\\Users\\flora\\AppData\\Roaming\\nltk_data...\n",
      "[nltk_data]   Package wordnet is already up-to-date!\n"
     ]
    },
    {
     "data": {
      "text/plain": [
       "True"
      ]
     },
     "execution_count": 1,
     "metadata": {},
     "output_type": "execute_result"
    }
   ],
   "source": [
    "import nltk\n",
    "import random\n",
    "from sklearn.feature_extraction.text import TfidfVectorizer\n",
    "from sklearn.metrics.pairwise import cosine_similarity      \n",
    "import pandas as pd\n",
    "import warnings\n",
    "warnings.filterwarnings('ignore')\n",
    "# import spacy\n",
    "lemmatizer = nltk.stem.WordNetLemmatizer()\n",
    "\n",
    "# Download required NLTK data\n",
    "nltk.download('stopwords')\n",
    "nltk.download('punkt')\n",
    "nltk.download('wordnet')\n"
   ]
  },
  {
   "cell_type": "code",
   "execution_count": 7,
   "metadata": {},
   "outputs": [
    {
     "data": {
      "text/html": [
       "<div>\n",
       "<style scoped>\n",
       "    .dataframe tbody tr th:only-of-type {\n",
       "        vertical-align: middle;\n",
       "    }\n",
       "\n",
       "    .dataframe tbody tr th {\n",
       "        vertical-align: top;\n",
       "    }\n",
       "\n",
       "    .dataframe thead th {\n",
       "        text-align: right;\n",
       "    }\n",
       "</style>\n",
       "<table border=\"1\" class=\"dataframe\">\n",
       "  <thead>\n",
       "    <tr style=\"text-align: right;\">\n",
       "      <th></th>\n",
       "      <th>Question_ID</th>\n",
       "      <th>Questions</th>\n",
       "      <th>Answers</th>\n",
       "    </tr>\n",
       "  </thead>\n",
       "  <tbody>\n",
       "    <tr>\n",
       "      <th>0</th>\n",
       "      <td>1590140</td>\n",
       "      <td>What does it mean to have a mental illness?</td>\n",
       "      <td>Mental illnesses are health conditions that di...</td>\n",
       "    </tr>\n",
       "    <tr>\n",
       "      <th>1</th>\n",
       "      <td>2110618</td>\n",
       "      <td>Who does mental illness affect?</td>\n",
       "      <td>It is estimated that mental illness affects 1 ...</td>\n",
       "    </tr>\n",
       "    <tr>\n",
       "      <th>2</th>\n",
       "      <td>6361820</td>\n",
       "      <td>What causes mental illness?</td>\n",
       "      <td>It is estimated that mental illness affects 1 ...</td>\n",
       "    </tr>\n",
       "    <tr>\n",
       "      <th>3</th>\n",
       "      <td>9434130</td>\n",
       "      <td>What are some of the warning signs of mental i...</td>\n",
       "      <td>Symptoms of mental health disorders vary depen...</td>\n",
       "    </tr>\n",
       "    <tr>\n",
       "      <th>4</th>\n",
       "      <td>7657263</td>\n",
       "      <td>Can people with mental illness recover?</td>\n",
       "      <td>When healing from mental illness, early identi...</td>\n",
       "    </tr>\n",
       "    <tr>\n",
       "      <th>...</th>\n",
       "      <td>...</td>\n",
       "      <td>...</td>\n",
       "      <td>...</td>\n",
       "    </tr>\n",
       "    <tr>\n",
       "      <th>93</th>\n",
       "      <td>4373204</td>\n",
       "      <td>How do I know if I'm drinking too much?</td>\n",
       "      <td>Sorting out if you are drinking too much can b...</td>\n",
       "    </tr>\n",
       "    <tr>\n",
       "      <th>94</th>\n",
       "      <td>7807643</td>\n",
       "      <td>If cannabis is dangerous, why are we legalizin...</td>\n",
       "      <td>Cannabis smoke, for example, contains cancer-c...</td>\n",
       "    </tr>\n",
       "    <tr>\n",
       "      <th>95</th>\n",
       "      <td>4352464</td>\n",
       "      <td>How can I convince my kids not to use drugs?</td>\n",
       "      <td>You can't. But you can influence their capacit...</td>\n",
       "    </tr>\n",
       "    <tr>\n",
       "      <th>96</th>\n",
       "      <td>6521784</td>\n",
       "      <td>What is the legal status (and evidence) of CBD...</td>\n",
       "      <td>Cannabidiol or CBD is a naturally occurring co...</td>\n",
       "    </tr>\n",
       "    <tr>\n",
       "      <th>97</th>\n",
       "      <td>3221856</td>\n",
       "      <td>What is the evidence on vaping?</td>\n",
       "      <td>\"Vaping\" is the term for using a device where ...</td>\n",
       "    </tr>\n",
       "  </tbody>\n",
       "</table>\n",
       "<p>98 rows × 3 columns</p>\n",
       "</div>"
      ],
      "text/plain": [
       "    Question_ID                                          Questions  \\\n",
       "0       1590140        What does it mean to have a mental illness?   \n",
       "1       2110618                    Who does mental illness affect?   \n",
       "2       6361820                        What causes mental illness?   \n",
       "3       9434130  What are some of the warning signs of mental i...   \n",
       "4       7657263            Can people with mental illness recover?   \n",
       "..          ...                                                ...   \n",
       "93      4373204            How do I know if I'm drinking too much?   \n",
       "94      7807643  If cannabis is dangerous, why are we legalizin...   \n",
       "95      4352464       How can I convince my kids not to use drugs?   \n",
       "96      6521784  What is the legal status (and evidence) of CBD...   \n",
       "97      3221856                    What is the evidence on vaping?   \n",
       "\n",
       "                                              Answers  \n",
       "0   Mental illnesses are health conditions that di...  \n",
       "1   It is estimated that mental illness affects 1 ...  \n",
       "2   It is estimated that mental illness affects 1 ...  \n",
       "3   Symptoms of mental health disorders vary depen...  \n",
       "4   When healing from mental illness, early identi...  \n",
       "..                                                ...  \n",
       "93  Sorting out if you are drinking too much can b...  \n",
       "94  Cannabis smoke, for example, contains cancer-c...  \n",
       "95  You can't. But you can influence their capacit...  \n",
       "96  Cannabidiol or CBD is a naturally occurring co...  \n",
       "97  \"Vaping\" is the term for using a device where ...  \n",
       "\n",
       "[98 rows x 3 columns]"
      ]
     },
     "execution_count": 7,
     "metadata": {},
     "output_type": "execute_result"
    }
   ],
   "source": [
    "data = pd.read_csv('Mental_Health_FAQ.csv', sep = ',')\n",
    "data"
   ]
  },
  {
   "cell_type": "code",
   "execution_count": 9,
   "metadata": {},
   "outputs": [],
   "source": [
    "data.drop('Question_ID',axis = 1,inplace = True)"
   ]
  },
  {
   "cell_type": "code",
   "execution_count": 11,
   "metadata": {},
   "outputs": [
    {
     "data": {
      "text/html": [
       "<div>\n",
       "<style scoped>\n",
       "    .dataframe tbody tr th:only-of-type {\n",
       "        vertical-align: middle;\n",
       "    }\n",
       "\n",
       "    .dataframe tbody tr th {\n",
       "        vertical-align: top;\n",
       "    }\n",
       "\n",
       "    .dataframe thead th {\n",
       "        text-align: right;\n",
       "    }\n",
       "</style>\n",
       "<table border=\"1\" class=\"dataframe\">\n",
       "  <thead>\n",
       "    <tr style=\"text-align: right;\">\n",
       "      <th></th>\n",
       "      <th>Questions</th>\n",
       "      <th>Answers</th>\n",
       "      <th>tokenized Questions</th>\n",
       "    </tr>\n",
       "  </thead>\n",
       "  <tbody>\n",
       "    <tr>\n",
       "      <th>0</th>\n",
       "      <td>What does it mean to have a mental illness?</td>\n",
       "      <td>Mental illnesses are health conditions that di...</td>\n",
       "      <td>what doe it mean to have a mental illness</td>\n",
       "    </tr>\n",
       "    <tr>\n",
       "      <th>1</th>\n",
       "      <td>Who does mental illness affect?</td>\n",
       "      <td>It is estimated that mental illness affects 1 ...</td>\n",
       "      <td>who doe mental illness affect</td>\n",
       "    </tr>\n",
       "    <tr>\n",
       "      <th>2</th>\n",
       "      <td>What causes mental illness?</td>\n",
       "      <td>It is estimated that mental illness affects 1 ...</td>\n",
       "      <td>what cause mental illness</td>\n",
       "    </tr>\n",
       "    <tr>\n",
       "      <th>3</th>\n",
       "      <td>What are some of the warning signs of mental i...</td>\n",
       "      <td>Symptoms of mental health disorders vary depen...</td>\n",
       "      <td>what are some of the warning sign of mental il...</td>\n",
       "    </tr>\n",
       "    <tr>\n",
       "      <th>4</th>\n",
       "      <td>Can people with mental illness recover?</td>\n",
       "      <td>When healing from mental illness, early identi...</td>\n",
       "      <td>can people with mental illness recover</td>\n",
       "    </tr>\n",
       "    <tr>\n",
       "      <th>...</th>\n",
       "      <td>...</td>\n",
       "      <td>...</td>\n",
       "      <td>...</td>\n",
       "    </tr>\n",
       "    <tr>\n",
       "      <th>93</th>\n",
       "      <td>How do I know if I'm drinking too much?</td>\n",
       "      <td>Sorting out if you are drinking too much can b...</td>\n",
       "      <td>how do i know if i drinking too much</td>\n",
       "    </tr>\n",
       "    <tr>\n",
       "      <th>94</th>\n",
       "      <td>If cannabis is dangerous, why are we legalizin...</td>\n",
       "      <td>Cannabis smoke, for example, contains cancer-c...</td>\n",
       "      <td>if cannabis is dangerous why are we legalizing it</td>\n",
       "    </tr>\n",
       "    <tr>\n",
       "      <th>95</th>\n",
       "      <td>How can I convince my kids not to use drugs?</td>\n",
       "      <td>You can't. But you can influence their capacit...</td>\n",
       "      <td>how can i convince my kid not to use drug</td>\n",
       "    </tr>\n",
       "    <tr>\n",
       "      <th>96</th>\n",
       "      <td>What is the legal status (and evidence) of CBD...</td>\n",
       "      <td>Cannabidiol or CBD is a naturally occurring co...</td>\n",
       "      <td>what is the legal status and evidence of cbd oil</td>\n",
       "    </tr>\n",
       "    <tr>\n",
       "      <th>97</th>\n",
       "      <td>What is the evidence on vaping?</td>\n",
       "      <td>\"Vaping\" is the term for using a device where ...</td>\n",
       "      <td>what is the evidence on vaping</td>\n",
       "    </tr>\n",
       "  </tbody>\n",
       "</table>\n",
       "<p>98 rows × 3 columns</p>\n",
       "</div>"
      ],
      "text/plain": [
       "                                            Questions  \\\n",
       "0         What does it mean to have a mental illness?   \n",
       "1                     Who does mental illness affect?   \n",
       "2                         What causes mental illness?   \n",
       "3   What are some of the warning signs of mental i...   \n",
       "4             Can people with mental illness recover?   \n",
       "..                                                ...   \n",
       "93            How do I know if I'm drinking too much?   \n",
       "94  If cannabis is dangerous, why are we legalizin...   \n",
       "95       How can I convince my kids not to use drugs?   \n",
       "96  What is the legal status (and evidence) of CBD...   \n",
       "97                    What is the evidence on vaping?   \n",
       "\n",
       "                                              Answers  \\\n",
       "0   Mental illnesses are health conditions that di...   \n",
       "1   It is estimated that mental illness affects 1 ...   \n",
       "2   It is estimated that mental illness affects 1 ...   \n",
       "3   Symptoms of mental health disorders vary depen...   \n",
       "4   When healing from mental illness, early identi...   \n",
       "..                                                ...   \n",
       "93  Sorting out if you are drinking too much can b...   \n",
       "94  Cannabis smoke, for example, contains cancer-c...   \n",
       "95  You can't. But you can influence their capacit...   \n",
       "96  Cannabidiol or CBD is a naturally occurring co...   \n",
       "97  \"Vaping\" is the term for using a device where ...   \n",
       "\n",
       "                                  tokenized Questions  \n",
       "0           what doe it mean to have a mental illness  \n",
       "1                       who doe mental illness affect  \n",
       "2                           what cause mental illness  \n",
       "3   what are some of the warning sign of mental il...  \n",
       "4              can people with mental illness recover  \n",
       "..                                                ...  \n",
       "93               how do i know if i drinking too much  \n",
       "94  if cannabis is dangerous why are we legalizing it  \n",
       "95          how can i convince my kid not to use drug  \n",
       "96   what is the legal status and evidence of cbd oil  \n",
       "97                     what is the evidence on vaping  \n",
       "\n",
       "[98 rows x 3 columns]"
      ]
     },
     "execution_count": 11,
     "metadata": {},
     "output_type": "execute_result"
    }
   ],
   "source": [
    "# Define a function for text preprocessing (including lemmatization)\n",
    "def preprocess_text(text):\n",
    "    # Identifies all sentences in the data\n",
    "    sentences = nltk.sent_tokenize(text)\n",
    "    \n",
    "    # Tokenize and lemmatize each word in each sentence\n",
    "    preprocessed_sentences = []\n",
    "    for sentence in sentences:\n",
    "        tokens = [lemmatizer.lemmatize(word.lower()) for word in nltk.word_tokenize(sentence) if word.isalnum()]\n",
    "        # Turns to basic root - each word in the tokenized word found in the tokenized sentence - if they are all alphanumeric \n",
    "        # The code above does the following:\n",
    "        # Identifies every word in the sentence \n",
    "        # Turns it to a lower case \n",
    "        # Lemmatizes it if the word is alphanumeric\n",
    "\n",
    "        preprocessed_sentence = ' '.join(tokens)\n",
    "        preprocessed_sentences.append(preprocessed_sentence)\n",
    "    \n",
    "    return ' '.join(preprocessed_sentences)\n",
    "\n",
    "\n",
    "data['tokenized Questions'] = data['Questions'].apply(preprocess_text)\n",
    "data"
   ]
  },
  {
   "cell_type": "code",
   "execution_count": 12,
   "metadata": {},
   "outputs": [
    {
     "data": {
      "text/plain": [
       "['what doe it mean to have a mental illness',\n",
       " 'who doe mental illness affect',\n",
       " 'what cause mental illness',\n",
       " 'what are some of the warning sign of mental illness',\n",
       " 'can people with mental illness recover',\n",
       " 'what should i do if i know someone who appears to have the symptom of a mental disorder',\n",
       " 'how can i find a mental health professional for myself or my child',\n",
       " 'what treatment option are available',\n",
       " 'if i become involved in treatment what do i need to know',\n",
       " 'what is the difference between mental health professional',\n",
       " 'how can i find a mental health professional right for my child or myself',\n",
       " 'if i become involved in treatment what do i need to know',\n",
       " 'where else can i get help',\n",
       " 'what should i know before starting a new medication',\n",
       " 'if i feel better after taking medication doe this mean i am cured and can stop taking it',\n",
       " 'how can i get help paying for my medication',\n",
       " 'where can i go to find therapy',\n",
       " 'where can i learn about type of mental health treatment',\n",
       " 'what are the different type of mental health professional',\n",
       " 'where can i go to find a support group',\n",
       " 'where can i go to find inpatient care',\n",
       " 'where can i go to find other local service',\n",
       " 'where can i learn more information about clinical trial',\n",
       " 'where can i learn more information about creating a psychiatric advance directive',\n",
       " 'what is mental health',\n",
       " 'what do i do if the support doesn t help',\n",
       " 'can you prevent mental health problem',\n",
       " 'are there cure for mental health problem',\n",
       " 'what cause mental health problem',\n",
       " 'what do i do if i m worried about my mental health',\n",
       " 'how do i know if i m unwell',\n",
       " 'what should i do if i m worried about a friend or relative',\n",
       " 'how do i deal with someone telling me what to do',\n",
       " 'why do i need to keep informed',\n",
       " 'how can i tell if health information is good or bad',\n",
       " 'why do i need a plan',\n",
       " 'how can i maintain social connection what if i feel lonely',\n",
       " 'how can i take care of my physical health',\n",
       " 'how can i use distraction to manage difficult thought or feeling',\n",
       " 'how can i reframe the situation and find more balanced perspective',\n",
       " 'how can i challenge thinking trap',\n",
       " 'how can i manage grief',\n",
       " 'how can i find a doctor psychiatrist psychologist or counsellor',\n",
       " 'how can i see a psychiatrist',\n",
       " 'how can i see a psychologist',\n",
       " 'how can i see a counsellor',\n",
       " 'how can i find a support group',\n",
       " 'where can i find child and youth mental health service',\n",
       " 'where can older adult find help for mental health concern',\n",
       " 'where can i find material for depression',\n",
       " 'where can i find material for anxiety',\n",
       " 'i m having a hard time coping with a physical health problem where can i find help',\n",
       " 'when is substance use a problem where can i go for help',\n",
       " 'where can i find free or counselling',\n",
       " 'can i get help paying for prescription medication',\n",
       " 'how can i pay for mental health care',\n",
       " 'how do i apply for income assistance',\n",
       " 'what is msp',\n",
       " 'what is a referral',\n",
       " 'what the difference between a psychiatrist and a registered psychologist',\n",
       " 'what the difference between psychotherapy and counselling',\n",
       " 'what the difference between cbt and dbt',\n",
       " 'what the difference between antidepressant',\n",
       " 'i received a diagnosis but i don t think it s right what can i do',\n",
       " 'i wa prescribed an antidepressant or other psychiatric medication but i don t think it s working what can i do',\n",
       " 'an adult in my life seems ill and won t find help what can i do',\n",
       " 'i m worried about my child or teenager where can i find help',\n",
       " 'someone i care about ha a brain injury where can i find more information',\n",
       " 'someone i love ha been diagnosed with depression how can i help',\n",
       " 'someone i love ha been diagnosed with schizophrenia how can i help',\n",
       " 'i m a young person and one of my parent ha a mental illness what can i do',\n",
       " 'i have thought of suicide or someone i care about is talking about suicide what should i do',\n",
       " 'cannabis is legally allowed to but there are doctor group saying it s potentially harmful to age 25 any use or certain use what s myth and what s fact if i m a parent what should i tell my young adult',\n",
       " 'what the difference between mental health and mental illness',\n",
       " 'where can i find more information about depression',\n",
       " 'what s the difference between anxiety and an anxiety disorder',\n",
       " 'what the difference between anxiety and stress',\n",
       " 'what the difference between sadness and depression',\n",
       " 'what is dysthymia or persistent depressive disorder',\n",
       " 'what is cyclothymic disorder',\n",
       " 'what doe rapid cycling mean',\n",
       " 'where can i find information and help for borderline personality disorder',\n",
       " 'what is schizoid personality disorder',\n",
       " 'what is antisocial personality disorder',\n",
       " 'what is personality disorder',\n",
       " 'what is disorder',\n",
       " 'what s the difference between dissociative identity disorder multiple personality disorder and schizophrenia',\n",
       " 'what the difference between psychosis and schizophrenia',\n",
       " 'what are positive and negative symptom',\n",
       " 'what is a prodrome',\n",
       " 'i m an adult and i think i might have adhd what can i do next',\n",
       " 'what s the difference between substance use and addiction',\n",
       " 'how can i find help for an alcohol or drug use problem',\n",
       " 'how do i know if i drinking too much',\n",
       " 'if cannabis is dangerous why are we legalizing it',\n",
       " 'how can i convince my kid not to use drug',\n",
       " 'what is the legal status and evidence of cbd oil',\n",
       " 'what is the evidence on vaping']"
      ]
     },
     "execution_count": 12,
     "metadata": {},
     "output_type": "execute_result"
    }
   ],
   "source": [
    "xtrain = data['tokenized Questions'].to_list()\n",
    "xtrain "
   ]
  },
  {
   "cell_type": "code",
   "execution_count": 13,
   "metadata": {},
   "outputs": [
    {
     "name": "stdout",
     "output_type": "stream",
     "text": [
      "  (0, 101)\t0.36441743462193266\n",
      "  (0, 128)\t0.2595599997967565\n",
      "  (0, 93)\t0.4131356340148716\n",
      "  (0, 216)\t0.3064104920291124\n",
      "  (0, 126)\t0.4362655661041626\n",
      "  (0, 110)\t0.3782586235113424\n",
      "  (0, 70)\t0.4131356340148716\n",
      "  (0, 228)\t0.1765554179540623\n",
      "  (1, 6)\t0.5523407361335997\n",
      "  (1, 231)\t0.5066540480622876\n",
      "  (1, 101)\t0.39613691788888045\n",
      "  (1, 128)\t0.2821525222397721\n",
      "  (1, 70)\t0.44909562820041293\n",
      "  (2, 36)\t0.6958986765070116\n",
      "  (2, 101)\t0.5441013605412818\n",
      "  (2, 128)\t0.3875416915165623\n",
      "  (2, 228)\t0.2636098989594234\n",
      "  (3, 189)\t0.3888505175982014\n",
      "  (3, 226)\t0.3888505175982014\n",
      "  (3, 208)\t0.20619723379229024\n",
      "  (3, 142)\t0.5390782138680418\n",
      "  (3, 192)\t0.3888505175982014\n",
      "  (3, 20)\t0.27888228313399066\n",
      "  (3, 101)\t0.27888228313399066\n",
      "  (3, 128)\t0.19863672392259624\n",
      "  :\t:\n",
      "  (95, 141)\t0.42484474614924805\n",
      "  (95, 112)\t0.42484474614924805\n",
      "  (95, 45)\t0.42484474614924805\n",
      "  (95, 74)\t0.38970384828260646\n",
      "  (95, 223)\t0.3162701372700484\n",
      "  (95, 134)\t0.27709743719530117\n",
      "  (95, 97)\t0.20594459776752813\n",
      "  (95, 33)\t0.14762176669959692\n",
      "  (95, 216)\t0.25619637557879654\n",
      "  (96, 143)\t0.3988227064171985\n",
      "  (96, 37)\t0.3988227064171985\n",
      "  (96, 77)\t0.3658342132790937\n",
      "  (96, 195)\t0.3988227064171985\n",
      "  (96, 115)\t0.3988227064171985\n",
      "  (96, 13)\t0.20751567411060107\n",
      "  (96, 109)\t0.21565842775283073\n",
      "  (96, 208)\t0.21148522405145798\n",
      "  (96, 142)\t0.276451518636729\n",
      "  (96, 228)\t0.13857982958447307\n",
      "  (97, 224)\t0.531814333992344\n",
      "  (97, 145)\t0.531814333992344\n",
      "  (97, 77)\t0.4878254807365814\n",
      "  (97, 109)\t0.2875719994869928\n",
      "  (97, 208)\t0.28200719710400535\n",
      "  (97, 228)\t0.18479073179485586\n"
     ]
    }
   ],
   "source": [
    "# Vectorize corpus\n",
    "tfidf_vectorizer = TfidfVectorizer()\n",
    "corpus = tfidf_vectorizer.fit_transform(xtrain)\n",
    "\n",
    "print(corpus)"
   ]
  },
  {
   "cell_type": "code",
   "execution_count": 14,
   "metadata": {},
   "outputs": [
    {
     "name": "stdout",
     "output_type": "stream",
     "text": [
      "what doe it mean to have a mental illness\n"
     ]
    }
   ],
   "source": [
    "user = input('Pls ask your question')\n",
    "print(user)"
   ]
  },
  {
   "cell_type": "code",
   "execution_count": 15,
   "metadata": {},
   "outputs": [
    {
     "data": {
      "text/plain": [
       "'what doe it mean to have a mental illness'"
      ]
     },
     "execution_count": 15,
     "metadata": {},
     "output_type": "execute_result"
    }
   ],
   "source": [
    "preprocess_text(user)\n"
   ]
  },
  {
   "cell_type": "code",
   "execution_count": 16,
   "metadata": {},
   "outputs": [
    {
     "name": "stdout",
     "output_type": "stream",
     "text": [
      "  (0, 228)\t0.1765554179540623\n",
      "  (0, 216)\t0.3064104920291124\n",
      "  (0, 128)\t0.2595599997967565\n",
      "  (0, 126)\t0.4362655661041626\n",
      "  (0, 110)\t0.3782586235113424\n",
      "  (0, 101)\t0.36441743462193266\n",
      "  (0, 93)\t0.4131356340148716\n",
      "  (0, 70)\t0.4131356340148716\n"
     ]
    }
   ],
   "source": [
    "# vectorize user input \n",
    "user_transformed = tfidf_vectorizer.transform([user])\n",
    "print(user_transformed)"
   ]
  },
  {
   "cell_type": "code",
   "execution_count": 17,
   "metadata": {},
   "outputs": [
    {
     "data": {
      "text/plain": [
       "array([[1.        , 0.40313212, 0.3454121 , 0.17704296, 0.21063385,\n",
       "        0.25849633, 0.06251536, 0.03379047, 0.10555576, 0.11835602,\n",
       "        0.05737895, 0.10555576, 0.        , 0.02777408, 0.26372549,\n",
       "        0.        , 0.11397   , 0.06517563, 0.09178474, 0.10489678,\n",
       "        0.10280407, 0.08898973, 0.        , 0.        , 0.19605545,\n",
       "        0.03053691, 0.07365815, 0.06767132, 0.13441679, 0.09905803,\n",
       "        0.        , 0.02762764, 0.100104  , 0.09176701, 0.        ,\n",
       "        0.        , 0.02573765, 0.        , 0.07349987, 0.        ,\n",
       "        0.        , 0.        , 0.        , 0.        , 0.        ,\n",
       "        0.        , 0.        , 0.06628308, 0.06170926, 0.        ,\n",
       "        0.        , 0.        , 0.        , 0.        , 0.        ,\n",
       "        0.07803851, 0.        , 0.05160711, 0.05160711, 0.03102004,\n",
       "        0.03388261, 0.03309166, 0.04329784, 0.13722713, 0.10585443,\n",
       "        0.02188926, 0.        , 0.        , 0.        , 0.        ,\n",
       "        0.17421844, 0.11656428, 0.16276909, 0.32364713, 0.        ,\n",
       "        0.02636817, 0.03443439, 0.03485473, 0.029927  , 0.04524437,\n",
       "        0.41144718, 0.        , 0.03926979, 0.03926979, 0.05111391,\n",
       "        0.06699448, 0.02243454, 0.03443439, 0.03169163, 0.05160711,\n",
       "        0.15622727, 0.03133725, 0.        , 0.        , 0.11215946,\n",
       "        0.07850126, 0.02446702, 0.0326258 ]])"
      ]
     },
     "execution_count": 17,
     "metadata": {},
     "output_type": "execute_result"
    }
   ],
   "source": [
    "# find similarity \n",
    "similarity_scores = cosine_similarity(user_transformed, corpus)\n",
    "similarity_scores"
   ]
  },
  {
   "cell_type": "code",
   "execution_count": 19,
   "metadata": {},
   "outputs": [
    {
     "data": {
      "text/plain": [
       "'Mental illnesses are health conditions that disrupt a personâ€™s thoughts, emotions, relationships, and daily functioning. They are associated with distress and diminished capacity to engage in the ordinary activities of daily life.\\nMental illnesses fall along a continuum of severity: some are fairly mild and only interfere with some aspects of life, such as certain phobias. On the other end of the spectrum lie serious mental illnesses, which result in major functional impairment and interference with daily life. These include such disorders as major depression, schizophrenia, and bipolar disorder, and may require that the person receives care in a hospital.\\nIt is important to know that mental illnesses are medical conditions that have nothing to do with a personâ€™s character, intelligence, or willpower. Just as diabetes is a disorder of the pancreas, mental illness is a medical condition due to the brainâ€™s biology.\\nSimilarly to how one would treat diabetes with medication and insulin, mental illness is treatable with a combination of medication and social support. These treatments are highly effective, with 70-90 percent of individuals receiving treatment experiencing a reduction in symptoms and an improved quality of life. With the proper treatment, it is very possible for a person with mental illness to be independent and successful.'"
      ]
     },
     "execution_count": 19,
     "metadata": {},
     "output_type": "execute_result"
    }
   ],
   "source": [
    "data['Answers'].iloc[similarity_scores.argmax()]"
   ]
  },
  {
   "cell_type": "code",
   "execution_count": 23,
   "metadata": {},
   "outputs": [],
   "source": [
    "def collector():\n",
    "    user = input('Pls ask your question: ')\n",
    "    pre_user = preprocess_text(user)\n",
    "    vect_user = tfidf_vectorizer.transform([pre_user])\n",
    "    similarity_scores = cosine_similarity(vect_user, corpus)\n",
    "    most_similar_index = similarity_scores.argmax()\n",
    "    \n",
    "    return data['Answers'].iloc[most_similar_index]"
   ]
  },
  {
   "cell_type": "code",
   "execution_count": 24,
   "metadata": {},
   "outputs": [
    {
     "data": {
      "text/plain": [
       "'Mental illnesses are health conditions that disrupt a personâ€™s thoughts, emotions, relationships, and daily functioning. They are associated with distress and diminished capacity to engage in the ordinary activities of daily life.\\nMental illnesses fall along a continuum of severity: some are fairly mild and only interfere with some aspects of life, such as certain phobias. On the other end of the spectrum lie serious mental illnesses, which result in major functional impairment and interference with daily life. These include such disorders as major depression, schizophrenia, and bipolar disorder, and may require that the person receives care in a hospital.\\nIt is important to know that mental illnesses are medical conditions that have nothing to do with a personâ€™s character, intelligence, or willpower. Just as diabetes is a disorder of the pancreas, mental illness is a medical condition due to the brainâ€™s biology.\\nSimilarly to how one would treat diabetes with medication and insulin, mental illness is treatable with a combination of medication and social support. These treatments are highly effective, with 70-90 percent of individuals receiving treatment experiencing a reduction in symptoms and an improved quality of life. With the proper treatment, it is very possible for a person with mental illness to be independent and successful.'"
      ]
     },
     "execution_count": 24,
     "metadata": {},
     "output_type": "execute_result"
    }
   ],
   "source": [
    "collector()"
   ]
  },
  {
   "cell_type": "code",
   "execution_count": 25,
   "metadata": {},
   "outputs": [
    {
     "name": "stdout",
     "output_type": "stream",
     "text": [
      "Hi Dear, i am here if you need me\n",
      "Do you have anymore question you to ask....Bye\n"
     ]
    }
   ],
   "source": [
    "def responder(text):\n",
    "    user_input_processed = preprocess_text(user_input)\n",
    "    vectorized_user_input = tfidf_vectorizer.transform([user_input_processed])\n",
    "    similarity_scores = cosine_similarity(vectorized_user_input, corpus)\n",
    "    argument_maximum = similarity_scores.argmax()\n",
    "    return data['Answers'].iloc[argument_maximum]\n",
    "\n",
    "bot_greetings = ['Hello user, You are chatting with Flora....How may i help you',\n",
    "             'Hi Dear, i am here if you need me',\n",
    "             'Hey, what do need me to do',\n",
    "             'Hello i am here for you',\n",
    "             'How can i be of help' ]\n",
    "\n",
    "bot_farewell = ['Thanks for your usage....bye',\n",
    "            'Alright dear...Hope to see you soon',\n",
    "            'Hope i was of help to know...Bye',\n",
    "            'Do you have anymore question you to ask....Bye',\n",
    "            'Thanks for reaching out...Hope i answer all your question...Bye']\n",
    "\n",
    "human_greeting = ['Hi', 'Hello There', 'Hiyya', 'Hey', 'hello', 'Wassup']\n",
    "\n",
    "human_exits = ['Thanks bye', 'bye', 'quite', 'exit', 'bye bye', 'close']\n",
    "\n",
    "import random\n",
    "random_greeting = random.choice(bot_greetings)\n",
    "random_farewell = random.choice(bot_farewell)\n",
    "\n",
    "while True:\n",
    "    user_input = input('You: ')\n",
    "\n",
    "    if user_input.lower() in human_greeting:\n",
    "        print(random_greeting)\n",
    "    elif user_input.lower() in human_exits:\n",
    "        print(random_farewell)\n",
    "        break\n",
    "    else:\n",
    "      responder(user_input)\n"
   ]
  }
 ],
 "metadata": {
  "kernelspec": {
   "display_name": "Python 3",
   "language": "python",
   "name": "python3"
  },
  "language_info": {
   "codemirror_mode": {
    "name": "ipython",
    "version": 3
   },
   "file_extension": ".py",
   "mimetype": "text/x-python",
   "name": "python",
   "nbconvert_exporter": "python",
   "pygments_lexer": "ipython3",
   "version": "3.11.9"
  }
 },
 "nbformat": 4,
 "nbformat_minor": 2
}
